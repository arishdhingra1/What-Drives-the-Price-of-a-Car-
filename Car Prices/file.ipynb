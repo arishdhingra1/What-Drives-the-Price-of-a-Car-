{
 "cells": [
  {
   "cell_type": "markdown",
   "metadata": {},
   "source": [
    "# What drives the price of a car?\n",
    "\n",
    "![](images/kurt.jpeg)"
   ]
  },
  {
   "cell_type": "markdown",
   "metadata": {},
   "source": [
    "**OVERVIEW**\n",
    "\n",
    "In this application, you will explore a dataset from Kaggle. The original dataset contained information on 3 million used cars. The provided dataset contains information on 426K cars to ensure speed of processing.  Your goal is to understand what factors make a car more or less expensive.  As a result of your analysis, you should provide clear recommendations to your client -- a used car dealership -- as to what consumers value in a used car."
   ]
  },
  {
   "cell_type": "markdown",
   "metadata": {},
   "source": [
    "### CRISP-DM Framework\n",
    "\n",
    "<center>\n",
    "    <img src = images/crisp.png width = 50%/>\n",
    "</center>\n",
    "\n",
    "\n",
    "To frame the task, throughout our practical applications, we will refer back to a standard process in industry for data projects called CRISP-DM.  This process provides a framework for working through a data problem.  Your first step in this application will be to read through a brief overview of CRISP-DM [here](https://mo-pcco.s3.us-east-1.amazonaws.com/BH-PCMLAI/module_11/readings_starter.zip).  After reading the overview, answer the questions below."
   ]
  },
  {
   "cell_type": "markdown",
   "metadata": {},
   "source": [
    "### Business Understanding\n",
    "\n",
    "From a business perspective, we are tasked with identifying key drivers for used car prices.  In the CRISP-DM overview, we are asked to convert this business framing to a data problem definition.  Using a few sentences, reframe the task as a data task with the appropriate technical vocabulary. "
   ]
  },
  {
   "cell_type": "markdown",
   "metadata": {
    "scrolled": true
   },
   "source": [
    "Soution:  \n",
    "\n",
    "As stated in assignment that the client (a used car dealership) wants to understand what factors influence the price of used cars. This will help them price their inventory more effectively and identify what features consumers value.\n",
    "\n",
    "Now if we want to change this as a data task, we can say that this is a **regression problem** where we predict the continuous variable `price` based on features like `year`, `manufacturer`, `model`, `condition`, `cylinders`, `fuel`, `odometer`, `transmission`, etc. Our goal is to identify which of these features have the most significant impact on the price."
   ]
  },
  {
   "cell_type": "markdown",
   "metadata": {},
   "source": [
    "### Data Understanding\n",
    "\n",
    "After considering the business understanding, we want to get familiar with our data.  Write down some steps that you would take to get to know the dataset and identify any quality issues within.  Take time to get to know the dataset and explore what information it contains and how this could be used to inform your business understanding."
   ]
  },
  {
   "cell_type": "code",
   "execution_count": 66,
   "metadata": {},
   "outputs": [
    {
     "data": {
      "text/html": [
       "<div>\n",
       "<style scoped>\n",
       "    .dataframe tbody tr th:only-of-type {\n",
       "        vertical-align: middle;\n",
       "    }\n",
       "\n",
       "    .dataframe tbody tr th {\n",
       "        vertical-align: top;\n",
       "    }\n",
       "\n",
       "    .dataframe thead th {\n",
       "        text-align: right;\n",
       "    }\n",
       "</style>\n",
       "<table border=\"1\" class=\"dataframe\">\n",
       "  <thead>\n",
       "    <tr style=\"text-align: right;\">\n",
       "      <th></th>\n",
       "      <th>id</th>\n",
       "      <th>region</th>\n",
       "      <th>price</th>\n",
       "      <th>year</th>\n",
       "      <th>manufacturer</th>\n",
       "      <th>model</th>\n",
       "      <th>condition</th>\n",
       "      <th>cylinders</th>\n",
       "      <th>fuel</th>\n",
       "      <th>odometer</th>\n",
       "      <th>title_status</th>\n",
       "      <th>transmission</th>\n",
       "      <th>VIN</th>\n",
       "      <th>drive</th>\n",
       "      <th>size</th>\n",
       "      <th>type</th>\n",
       "      <th>paint_color</th>\n",
       "      <th>state</th>\n",
       "    </tr>\n",
       "  </thead>\n",
       "  <tbody>\n",
       "    <tr>\n",
       "      <th>0</th>\n",
       "      <td>7222695916</td>\n",
       "      <td>prescott</td>\n",
       "      <td>6000</td>\n",
       "      <td>NaN</td>\n",
       "      <td>NaN</td>\n",
       "      <td>NaN</td>\n",
       "      <td>NaN</td>\n",
       "      <td>NaN</td>\n",
       "      <td>NaN</td>\n",
       "      <td>NaN</td>\n",
       "      <td>NaN</td>\n",
       "      <td>NaN</td>\n",
       "      <td>NaN</td>\n",
       "      <td>NaN</td>\n",
       "      <td>NaN</td>\n",
       "      <td>NaN</td>\n",
       "      <td>NaN</td>\n",
       "      <td>az</td>\n",
       "    </tr>\n",
       "    <tr>\n",
       "      <th>1</th>\n",
       "      <td>7218891961</td>\n",
       "      <td>fayetteville</td>\n",
       "      <td>11900</td>\n",
       "      <td>NaN</td>\n",
       "      <td>NaN</td>\n",
       "      <td>NaN</td>\n",
       "      <td>NaN</td>\n",
       "      <td>NaN</td>\n",
       "      <td>NaN</td>\n",
       "      <td>NaN</td>\n",
       "      <td>NaN</td>\n",
       "      <td>NaN</td>\n",
       "      <td>NaN</td>\n",
       "      <td>NaN</td>\n",
       "      <td>NaN</td>\n",
       "      <td>NaN</td>\n",
       "      <td>NaN</td>\n",
       "      <td>ar</td>\n",
       "    </tr>\n",
       "    <tr>\n",
       "      <th>2</th>\n",
       "      <td>7221797935</td>\n",
       "      <td>florida keys</td>\n",
       "      <td>21000</td>\n",
       "      <td>NaN</td>\n",
       "      <td>NaN</td>\n",
       "      <td>NaN</td>\n",
       "      <td>NaN</td>\n",
       "      <td>NaN</td>\n",
       "      <td>NaN</td>\n",
       "      <td>NaN</td>\n",
       "      <td>NaN</td>\n",
       "      <td>NaN</td>\n",
       "      <td>NaN</td>\n",
       "      <td>NaN</td>\n",
       "      <td>NaN</td>\n",
       "      <td>NaN</td>\n",
       "      <td>NaN</td>\n",
       "      <td>fl</td>\n",
       "    </tr>\n",
       "    <tr>\n",
       "      <th>3</th>\n",
       "      <td>7222270760</td>\n",
       "      <td>worcester / central MA</td>\n",
       "      <td>1500</td>\n",
       "      <td>NaN</td>\n",
       "      <td>NaN</td>\n",
       "      <td>NaN</td>\n",
       "      <td>NaN</td>\n",
       "      <td>NaN</td>\n",
       "      <td>NaN</td>\n",
       "      <td>NaN</td>\n",
       "      <td>NaN</td>\n",
       "      <td>NaN</td>\n",
       "      <td>NaN</td>\n",
       "      <td>NaN</td>\n",
       "      <td>NaN</td>\n",
       "      <td>NaN</td>\n",
       "      <td>NaN</td>\n",
       "      <td>ma</td>\n",
       "    </tr>\n",
       "    <tr>\n",
       "      <th>4</th>\n",
       "      <td>7210384030</td>\n",
       "      <td>greensboro</td>\n",
       "      <td>4900</td>\n",
       "      <td>NaN</td>\n",
       "      <td>NaN</td>\n",
       "      <td>NaN</td>\n",
       "      <td>NaN</td>\n",
       "      <td>NaN</td>\n",
       "      <td>NaN</td>\n",
       "      <td>NaN</td>\n",
       "      <td>NaN</td>\n",
       "      <td>NaN</td>\n",
       "      <td>NaN</td>\n",
       "      <td>NaN</td>\n",
       "      <td>NaN</td>\n",
       "      <td>NaN</td>\n",
       "      <td>NaN</td>\n",
       "      <td>nc</td>\n",
       "    </tr>\n",
       "  </tbody>\n",
       "</table>\n",
       "</div>"
      ],
      "text/plain": [
       "           id                  region  price  year manufacturer model condition cylinders fuel  odometer title_status transmission  VIN drive size type paint_color state\n",
       "0  7222695916                prescott   6000   NaN          NaN   NaN       NaN       NaN  NaN       NaN          NaN          NaN  NaN   NaN  NaN  NaN         NaN    az\n",
       "1  7218891961            fayetteville  11900   NaN          NaN   NaN       NaN       NaN  NaN       NaN          NaN          NaN  NaN   NaN  NaN  NaN         NaN    ar\n",
       "2  7221797935            florida keys  21000   NaN          NaN   NaN       NaN       NaN  NaN       NaN          NaN          NaN  NaN   NaN  NaN  NaN         NaN    fl\n",
       "3  7222270760  worcester / central MA   1500   NaN          NaN   NaN       NaN       NaN  NaN       NaN          NaN          NaN  NaN   NaN  NaN  NaN         NaN    ma\n",
       "4  7210384030              greensboro   4900   NaN          NaN   NaN       NaN       NaN  NaN       NaN          NaN          NaN  NaN   NaN  NaN  NaN         NaN    nc"
      ]
     },
     "execution_count": 66,
     "metadata": {},
     "output_type": "execute_result"
    }
   ],
   "source": [
    "import pandas as pd\n",
    "\n",
    "#Load the Dataset\n",
    "file_path = 'data/vehicles.csv'  # Update this if your file is in a different location\n",
    "df = pd.read_csv(file_path)\n",
    "\n",
    "#View the First Few Rows\n",
    "df.head()"
   ]
  },
  {
   "cell_type": "code",
   "execution_count": 68,
   "metadata": {},
   "outputs": [
    {
     "name": "stdout",
     "output_type": "stream",
     "text": [
      "<class 'pandas.core.frame.DataFrame'>\n",
      "RangeIndex: 426880 entries, 0 to 426879\n",
      "Data columns (total 18 columns):\n",
      " #   Column        Non-Null Count   Dtype  \n",
      "---  ------        --------------   -----  \n",
      " 0   id            426880 non-null  int64  \n",
      " 1   region        426880 non-null  object \n",
      " 2   price         426880 non-null  int64  \n",
      " 3   year          425675 non-null  float64\n",
      " 4   manufacturer  409234 non-null  object \n",
      " 5   model         421603 non-null  object \n",
      " 6   condition     252776 non-null  object \n",
      " 7   cylinders     249202 non-null  object \n",
      " 8   fuel          423867 non-null  object \n",
      " 9   odometer      422480 non-null  float64\n",
      " 10  title_status  418638 non-null  object \n",
      " 11  transmission  424324 non-null  object \n",
      " 12  VIN           265838 non-null  object \n",
      " 13  drive         296313 non-null  object \n",
      " 14  size          120519 non-null  object \n",
      " 15  type          334022 non-null  object \n",
      " 16  paint_color   296677 non-null  object \n",
      " 17  state         426880 non-null  object \n",
      "dtypes: float64(2), int64(2), object(14)\n",
      "memory usage: 58.6+ MB\n"
     ]
    }
   ],
   "source": [
    "#Check Data Types and Missing Values\n",
    "df.info()"
   ]
  },
  {
   "cell_type": "code",
   "execution_count": 70,
   "metadata": {},
   "outputs": [
    {
     "data": {
      "text/html": [
       "<div>\n",
       "<style scoped>\n",
       "    .dataframe tbody tr th:only-of-type {\n",
       "        vertical-align: middle;\n",
       "    }\n",
       "\n",
       "    .dataframe tbody tr th {\n",
       "        vertical-align: top;\n",
       "    }\n",
       "\n",
       "    .dataframe thead th {\n",
       "        text-align: right;\n",
       "    }\n",
       "</style>\n",
       "<table border=\"1\" class=\"dataframe\">\n",
       "  <thead>\n",
       "    <tr style=\"text-align: right;\">\n",
       "      <th></th>\n",
       "      <th>id</th>\n",
       "      <th>region</th>\n",
       "      <th>price</th>\n",
       "      <th>year</th>\n",
       "      <th>manufacturer</th>\n",
       "      <th>model</th>\n",
       "      <th>condition</th>\n",
       "      <th>cylinders</th>\n",
       "      <th>fuel</th>\n",
       "      <th>odometer</th>\n",
       "      <th>title_status</th>\n",
       "      <th>transmission</th>\n",
       "      <th>VIN</th>\n",
       "      <th>drive</th>\n",
       "      <th>size</th>\n",
       "      <th>type</th>\n",
       "      <th>paint_color</th>\n",
       "      <th>state</th>\n",
       "    </tr>\n",
       "  </thead>\n",
       "  <tbody>\n",
       "    <tr>\n",
       "      <th>count</th>\n",
       "      <td>4.268800e+05</td>\n",
       "      <td>426880</td>\n",
       "      <td>4.268800e+05</td>\n",
       "      <td>425675.000000</td>\n",
       "      <td>409234</td>\n",
       "      <td>421603</td>\n",
       "      <td>252776</td>\n",
       "      <td>249202</td>\n",
       "      <td>423867</td>\n",
       "      <td>4.224800e+05</td>\n",
       "      <td>418638</td>\n",
       "      <td>424324</td>\n",
       "      <td>265838</td>\n",
       "      <td>296313</td>\n",
       "      <td>120519</td>\n",
       "      <td>334022</td>\n",
       "      <td>296677</td>\n",
       "      <td>426880</td>\n",
       "    </tr>\n",
       "    <tr>\n",
       "      <th>unique</th>\n",
       "      <td>NaN</td>\n",
       "      <td>404</td>\n",
       "      <td>NaN</td>\n",
       "      <td>NaN</td>\n",
       "      <td>42</td>\n",
       "      <td>29649</td>\n",
       "      <td>6</td>\n",
       "      <td>8</td>\n",
       "      <td>5</td>\n",
       "      <td>NaN</td>\n",
       "      <td>6</td>\n",
       "      <td>3</td>\n",
       "      <td>118246</td>\n",
       "      <td>3</td>\n",
       "      <td>4</td>\n",
       "      <td>13</td>\n",
       "      <td>12</td>\n",
       "      <td>51</td>\n",
       "    </tr>\n",
       "    <tr>\n",
       "      <th>top</th>\n",
       "      <td>NaN</td>\n",
       "      <td>columbus</td>\n",
       "      <td>NaN</td>\n",
       "      <td>NaN</td>\n",
       "      <td>ford</td>\n",
       "      <td>f-150</td>\n",
       "      <td>good</td>\n",
       "      <td>6 cylinders</td>\n",
       "      <td>gas</td>\n",
       "      <td>NaN</td>\n",
       "      <td>clean</td>\n",
       "      <td>automatic</td>\n",
       "      <td>1FMJU1JT1HEA52352</td>\n",
       "      <td>4wd</td>\n",
       "      <td>full-size</td>\n",
       "      <td>sedan</td>\n",
       "      <td>white</td>\n",
       "      <td>ca</td>\n",
       "    </tr>\n",
       "    <tr>\n",
       "      <th>freq</th>\n",
       "      <td>NaN</td>\n",
       "      <td>3608</td>\n",
       "      <td>NaN</td>\n",
       "      <td>NaN</td>\n",
       "      <td>70985</td>\n",
       "      <td>8009</td>\n",
       "      <td>121456</td>\n",
       "      <td>94169</td>\n",
       "      <td>356209</td>\n",
       "      <td>NaN</td>\n",
       "      <td>405117</td>\n",
       "      <td>336524</td>\n",
       "      <td>261</td>\n",
       "      <td>131904</td>\n",
       "      <td>63465</td>\n",
       "      <td>87056</td>\n",
       "      <td>79285</td>\n",
       "      <td>50614</td>\n",
       "    </tr>\n",
       "    <tr>\n",
       "      <th>mean</th>\n",
       "      <td>7.311487e+09</td>\n",
       "      <td>NaN</td>\n",
       "      <td>7.519903e+04</td>\n",
       "      <td>2011.235191</td>\n",
       "      <td>NaN</td>\n",
       "      <td>NaN</td>\n",
       "      <td>NaN</td>\n",
       "      <td>NaN</td>\n",
       "      <td>NaN</td>\n",
       "      <td>9.804333e+04</td>\n",
       "      <td>NaN</td>\n",
       "      <td>NaN</td>\n",
       "      <td>NaN</td>\n",
       "      <td>NaN</td>\n",
       "      <td>NaN</td>\n",
       "      <td>NaN</td>\n",
       "      <td>NaN</td>\n",
       "      <td>NaN</td>\n",
       "    </tr>\n",
       "    <tr>\n",
       "      <th>std</th>\n",
       "      <td>4.473170e+06</td>\n",
       "      <td>NaN</td>\n",
       "      <td>1.218228e+07</td>\n",
       "      <td>9.452120</td>\n",
       "      <td>NaN</td>\n",
       "      <td>NaN</td>\n",
       "      <td>NaN</td>\n",
       "      <td>NaN</td>\n",
       "      <td>NaN</td>\n",
       "      <td>2.138815e+05</td>\n",
       "      <td>NaN</td>\n",
       "      <td>NaN</td>\n",
       "      <td>NaN</td>\n",
       "      <td>NaN</td>\n",
       "      <td>NaN</td>\n",
       "      <td>NaN</td>\n",
       "      <td>NaN</td>\n",
       "      <td>NaN</td>\n",
       "    </tr>\n",
       "    <tr>\n",
       "      <th>min</th>\n",
       "      <td>7.207408e+09</td>\n",
       "      <td>NaN</td>\n",
       "      <td>0.000000e+00</td>\n",
       "      <td>1900.000000</td>\n",
       "      <td>NaN</td>\n",
       "      <td>NaN</td>\n",
       "      <td>NaN</td>\n",
       "      <td>NaN</td>\n",
       "      <td>NaN</td>\n",
       "      <td>0.000000e+00</td>\n",
       "      <td>NaN</td>\n",
       "      <td>NaN</td>\n",
       "      <td>NaN</td>\n",
       "      <td>NaN</td>\n",
       "      <td>NaN</td>\n",
       "      <td>NaN</td>\n",
       "      <td>NaN</td>\n",
       "      <td>NaN</td>\n",
       "    </tr>\n",
       "    <tr>\n",
       "      <th>25%</th>\n",
       "      <td>7.308143e+09</td>\n",
       "      <td>NaN</td>\n",
       "      <td>5.900000e+03</td>\n",
       "      <td>2008.000000</td>\n",
       "      <td>NaN</td>\n",
       "      <td>NaN</td>\n",
       "      <td>NaN</td>\n",
       "      <td>NaN</td>\n",
       "      <td>NaN</td>\n",
       "      <td>3.770400e+04</td>\n",
       "      <td>NaN</td>\n",
       "      <td>NaN</td>\n",
       "      <td>NaN</td>\n",
       "      <td>NaN</td>\n",
       "      <td>NaN</td>\n",
       "      <td>NaN</td>\n",
       "      <td>NaN</td>\n",
       "      <td>NaN</td>\n",
       "    </tr>\n",
       "    <tr>\n",
       "      <th>50%</th>\n",
       "      <td>7.312621e+09</td>\n",
       "      <td>NaN</td>\n",
       "      <td>1.395000e+04</td>\n",
       "      <td>2013.000000</td>\n",
       "      <td>NaN</td>\n",
       "      <td>NaN</td>\n",
       "      <td>NaN</td>\n",
       "      <td>NaN</td>\n",
       "      <td>NaN</td>\n",
       "      <td>8.554800e+04</td>\n",
       "      <td>NaN</td>\n",
       "      <td>NaN</td>\n",
       "      <td>NaN</td>\n",
       "      <td>NaN</td>\n",
       "      <td>NaN</td>\n",
       "      <td>NaN</td>\n",
       "      <td>NaN</td>\n",
       "      <td>NaN</td>\n",
       "    </tr>\n",
       "    <tr>\n",
       "      <th>75%</th>\n",
       "      <td>7.315254e+09</td>\n",
       "      <td>NaN</td>\n",
       "      <td>2.648575e+04</td>\n",
       "      <td>2017.000000</td>\n",
       "      <td>NaN</td>\n",
       "      <td>NaN</td>\n",
       "      <td>NaN</td>\n",
       "      <td>NaN</td>\n",
       "      <td>NaN</td>\n",
       "      <td>1.335425e+05</td>\n",
       "      <td>NaN</td>\n",
       "      <td>NaN</td>\n",
       "      <td>NaN</td>\n",
       "      <td>NaN</td>\n",
       "      <td>NaN</td>\n",
       "      <td>NaN</td>\n",
       "      <td>NaN</td>\n",
       "      <td>NaN</td>\n",
       "    </tr>\n",
       "    <tr>\n",
       "      <th>max</th>\n",
       "      <td>7.317101e+09</td>\n",
       "      <td>NaN</td>\n",
       "      <td>3.736929e+09</td>\n",
       "      <td>2022.000000</td>\n",
       "      <td>NaN</td>\n",
       "      <td>NaN</td>\n",
       "      <td>NaN</td>\n",
       "      <td>NaN</td>\n",
       "      <td>NaN</td>\n",
       "      <td>1.000000e+07</td>\n",
       "      <td>NaN</td>\n",
       "      <td>NaN</td>\n",
       "      <td>NaN</td>\n",
       "      <td>NaN</td>\n",
       "      <td>NaN</td>\n",
       "      <td>NaN</td>\n",
       "      <td>NaN</td>\n",
       "      <td>NaN</td>\n",
       "    </tr>\n",
       "  </tbody>\n",
       "</table>\n",
       "</div>"
      ],
      "text/plain": [
       "                  id    region         price           year manufacturer   model condition    cylinders    fuel      odometer title_status transmission                VIN   drive       size    type paint_color   state\n",
       "count   4.268800e+05    426880  4.268800e+05  425675.000000       409234  421603    252776       249202  423867  4.224800e+05       418638       424324             265838  296313     120519  334022      296677  426880\n",
       "unique           NaN       404           NaN            NaN           42   29649         6            8       5           NaN            6            3             118246       3          4      13          12      51\n",
       "top              NaN  columbus           NaN            NaN         ford   f-150      good  6 cylinders     gas           NaN        clean    automatic  1FMJU1JT1HEA52352     4wd  full-size   sedan       white      ca\n",
       "freq             NaN      3608           NaN            NaN        70985    8009    121456        94169  356209           NaN       405117       336524                261  131904      63465   87056       79285   50614\n",
       "mean    7.311487e+09       NaN  7.519903e+04    2011.235191          NaN     NaN       NaN          NaN     NaN  9.804333e+04          NaN          NaN                NaN     NaN        NaN     NaN         NaN     NaN\n",
       "std     4.473170e+06       NaN  1.218228e+07       9.452120          NaN     NaN       NaN          NaN     NaN  2.138815e+05          NaN          NaN                NaN     NaN        NaN     NaN         NaN     NaN\n",
       "min     7.207408e+09       NaN  0.000000e+00    1900.000000          NaN     NaN       NaN          NaN     NaN  0.000000e+00          NaN          NaN                NaN     NaN        NaN     NaN         NaN     NaN\n",
       "25%     7.308143e+09       NaN  5.900000e+03    2008.000000          NaN     NaN       NaN          NaN     NaN  3.770400e+04          NaN          NaN                NaN     NaN        NaN     NaN         NaN     NaN\n",
       "50%     7.312621e+09       NaN  1.395000e+04    2013.000000          NaN     NaN       NaN          NaN     NaN  8.554800e+04          NaN          NaN                NaN     NaN        NaN     NaN         NaN     NaN\n",
       "75%     7.315254e+09       NaN  2.648575e+04    2017.000000          NaN     NaN       NaN          NaN     NaN  1.335425e+05          NaN          NaN                NaN     NaN        NaN     NaN         NaN     NaN\n",
       "max     7.317101e+09       NaN  3.736929e+09    2022.000000          NaN     NaN       NaN          NaN     NaN  1.000000e+07          NaN          NaN                NaN     NaN        NaN     NaN         NaN     NaN"
      ]
     },
     "execution_count": 70,
     "metadata": {},
     "output_type": "execute_result"
    }
   ],
   "source": [
    "#Get Summary Statistics for Numerical and Categorical Data\n",
    "df.describe(include='all')"
   ]
  },
  {
   "cell_type": "code",
   "execution_count": 72,
   "metadata": {},
   "outputs": [
    {
     "data": {
      "text/plain": [
       "size            306361\n",
       "cylinders       177678\n",
       "condition       174104\n",
       "VIN             161042\n",
       "drive           130567\n",
       "paint_color     130203\n",
       "type             92858\n",
       "manufacturer     17646\n",
       "title_status      8242\n",
       "model             5277\n",
       "odometer          4400\n",
       "fuel              3013\n",
       "transmission      2556\n",
       "year              1205\n",
       "id                   0\n",
       "region               0\n",
       "price                0\n",
       "state                0\n",
       "dtype: int64"
      ]
     },
     "execution_count": 72,
     "metadata": {},
     "output_type": "execute_result"
    }
   ],
   "source": [
    "#Identify columns with missing data to decide whether to impute or drop them.\n",
    "df.isnull().sum().sort_values(ascending=False)"
   ]
  },
  {
   "cell_type": "code",
   "execution_count": 74,
   "metadata": {},
   "outputs": [
    {
     "data": {
      "text/plain": [
       "0"
      ]
     },
     "execution_count": 74,
     "metadata": {},
     "output_type": "execute_result"
    }
   ],
   "source": [
    "#Check if any duplicate records exist.\n",
    "df.duplicated().sum()"
   ]
  },
  {
   "cell_type": "code",
   "execution_count": 76,
   "metadata": {},
   "outputs": [
    {
     "data": {
      "image/png": "[encoded data removed]",
      "text/plain": [
       "<Figure size 1000x600 with 1 Axes>"
      ]
     },
     "metadata": {},
     "output_type": "display_data"
    }
   ],
   "source": [
    "#Outliers in Key Variables (e.g., Price, Odometer)\n",
    "import matplotlib.pyplot as plt\n",
    "import seaborn as sns\n",
    "\n",
    "plt.figure(figsize=(10, 6))\n",
    "sns.boxplot(x=df['price'])\n",
    "plt.title('Boxplot of Car Prices')\n",
    "plt.xlabel('Price')\n",
    "plt.show()"
   ]
  },
  {
   "cell_type": "code",
   "execution_count": 78,
   "metadata": {},
   "outputs": [
    {
     "data": {
      "image/png": "[encoded data removed]",
      "text/plain": [
       "<Figure size 1000x600 with 1 Axes>"
      ]
     },
     "metadata": {},
     "output_type": "display_data"
    }
   ],
   "source": [
    "#Outliers in Key Variables (e.g., Price, Odometer)\n",
    "import matplotlib.pyplot as plt\n",
    "import seaborn as sns\n",
    "\n",
    "plt.figure(figsize=(10, 6))\n",
    "sns.boxplot(x=df['odometer'])\n",
    "plt.title('Boxplot of odometer')\n",
    "plt.xlabel('Odometer')\n",
    "plt.show()"
   ]
  },
  {
   "cell_type": "code",
   "execution_count": 80,
   "metadata": {},
   "outputs": [
    {
     "name": "stdout",
     "output_type": "stream",
     "text": [
      "region: ['prescott' 'fayetteville' 'florida keys' 'worcester / central MA'\n",
      " 'greensboro' 'hudson valley' 'medford-ashland' 'erie' 'el paso'\n",
      " 'bellingham']\n",
      "manufacturer: [nan 'gmc' 'chevrolet' 'toyota' 'ford' 'jeep' 'nissan' 'ram' 'mazda'\n",
      " 'cadillac']\n",
      "model: [nan 'sierra 1500 crew cab slt' 'silverado 1500' 'silverado 1500 crew'\n",
      " 'tundra double cab sr' 'f-150 xlt' 'sierra 2500 hd extended cab'\n",
      " 'silverado 1500 double' 'tacoma' 'colorado extended cab']\n",
      "condition: [nan 'good' 'excellent' 'fair' 'like new' 'new' 'salvage']\n",
      "cylinders: [nan '8 cylinders' '6 cylinders' '4 cylinders' '5 cylinders' 'other'\n",
      " '3 cylinders' '10 cylinders' '12 cylinders']\n",
      "fuel: [nan 'gas' 'other' 'diesel' 'hybrid' 'electric']\n",
      "title_status: [nan 'clean' 'rebuilt' 'lien' 'salvage' 'missing' 'parts only']\n",
      "transmission: [nan 'other' 'automatic' 'manual']\n",
      "VIN: [nan '3GTP1VEC4EG551563' '1GCSCSE06AZ123805' '3GCPWCED5LG130317'\n",
      " '5TFRM5F17HX120972' '1GT220CG8CZ231238' '1GCVKREH6GZ228691'\n",
      " '1GCHTCE37G1186784' '1G1YR3DW3B5102190' '1C4BJWDG5HL705371']\n",
      "drive: [nan 'rwd' '4wd' 'fwd']\n",
      "size: [nan 'full-size' 'mid-size' 'compact' 'sub-compact']\n",
      "type: [nan 'pickup' 'truck' 'other' 'coupe' 'SUV' 'hatchback' 'mini-van' 'sedan'\n",
      " 'offroad']\n",
      "paint_color: [nan 'white' 'blue' 'red' 'black' 'silver' 'grey' 'brown' 'yellow'\n",
      " 'orange']\n",
      "state: ['az' 'ar' 'fl' 'ma' 'nc' 'ny' 'or' 'pa' 'tx' 'wa']\n"
     ]
    }
   ],
   "source": [
    "#Helps identify typos or inconsistencies in categories.\n",
    "for col in df.select_dtypes(include='object').columns:\n",
    "    print(f\"{col}: {df[col].unique()[:10]}\")  # Display first 10 unique values for each column"
   ]
  },
  {
   "cell_type": "code",
   "execution_count": 82,
   "metadata": {},
   "outputs": [
    {
     "name": "stdout",
     "output_type": "stream",
     "text": [
      "id              426880\n",
      "VIN             118246\n",
      "odometer        104870\n",
      "model            29649\n",
      "price            15655\n",
      "region             404\n",
      "year               114\n",
      "state               51\n",
      "manufacturer        42\n",
      "type                13\n",
      "paint_color         12\n",
      "cylinders            8\n",
      "condition            6\n",
      "title_status         6\n",
      "fuel                 5\n",
      "size                 4\n",
      "transmission         3\n",
      "drive                3\n",
      "dtype: int64\n"
     ]
    }
   ],
   "source": [
    "# Check the number of unique values for each column\n",
    "unique_values = df.nunique().sort_values(ascending=False)\n",
    "\n",
    "# Display the columns with the most unique values first\n",
    "print(unique_values)"
   ]
  },
  {
   "cell_type": "markdown",
   "metadata": {},
   "source": [
    "### Data Preparation\n",
    "\n",
    "After our initial exploration and fine-tuning of the business understanding, it is time to construct our final dataset prior to modeling.  Here, we want to make sure to handle any integrity issues and cleaning, the engineering of new features, any transformations that we believe should happen (scaling, logarithms, normalization, etc.), and general preparation for modeling with `sklearn`. "
   ]
  },
  {
   "cell_type": "code",
   "execution_count": 85,
   "metadata": {},
   "outputs": [],
   "source": [
    "#Remove Irrelevant Columns. Columns with high missing values. (around 50%).\n",
    "df.drop(['id', 'VIN', 'cylinders','region', 'paint_color', 'model'], axis=1, inplace=True)"
   ]
  },
  {
   "cell_type": "code",
   "execution_count": 87,
   "metadata": {},
   "outputs": [],
   "source": [
    "#Remove Rows with Unrealistic Prices\n",
    "df = df[(df['price'] > 100) & (df['price'] < 100000)]"
   ]
  },
  {
   "cell_type": "code",
   "execution_count": 89,
   "metadata": {},
   "outputs": [
    {
     "name": "stderr",
     "output_type": "stream",
     "text": [
      "/var/folders/90/j2y5cj7s5jv2vjyrkcpbk4qm0000gn/T/ipykernel_30546/604312873.py:4: FutureWarning: A value is trying to be set on a copy of a DataFrame or Series through chained assignment using an inplace method.\n",
      "The behavior will change in pandas 3.0. This inplace method will never work because the intermediate object on which we are setting values always behaves as a copy.\n",
      "\n",
      "For example, when doing 'df[col].method(value, inplace=True)', try using 'df.method({col: value}, inplace=True)' or df[col] = df[col].method(value) instead, to perform the operation inplace on the original object.\n",
      "\n",
      "\n",
      "  df[col].fillna('unknown', inplace=True)\n"
     ]
    }
   ],
   "source": [
    "# Impute with 'unknown' or common categories for categorical features\n",
    "impute_unknown_cols = ['condition', 'drive', 'type', 'manufacturer', 'title_status', 'fuel', 'transmission','size']\n",
    "for col in impute_unknown_cols:\n",
    "    df[col].fillna('unknown', inplace=True)"
   ]
  },
  {
   "cell_type": "code",
   "execution_count": 91,
   "metadata": {
    "scrolled": true
   },
   "outputs": [
    {
     "name": "stderr",
     "output_type": "stream",
     "text": [
      "/var/folders/90/j2y5cj7s5jv2vjyrkcpbk4qm0000gn/T/ipykernel_30546/800435491.py:2: FutureWarning: A value is trying to be set on a copy of a DataFrame or Series through chained assignment using an inplace method.\n",
      "The behavior will change in pandas 3.0. This inplace method will never work because the intermediate object on which we are setting values always behaves as a copy.\n",
      "\n",
      "For example, when doing 'df[col].method(value, inplace=True)', try using 'df.method({col: value}, inplace=True)' or df[col] = df[col].method(value) instead, to perform the operation inplace on the original object.\n",
      "\n",
      "\n",
      "  df['year'].fillna(df['year'].median(), inplace=True)\n",
      "/var/folders/90/j2y5cj7s5jv2vjyrkcpbk4qm0000gn/T/ipykernel_30546/800435491.py:3: FutureWarning: A value is trying to be set on a copy of a DataFrame or Series through chained assignment using an inplace method.\n",
      "The behavior will change in pandas 3.0. This inplace method will never work because the intermediate object on which we are setting values always behaves as a copy.\n",
      "\n",
      "For example, when doing 'df[col].method(value, inplace=True)', try using 'df.method({col: value}, inplace=True)' or df[col] = df[col].method(value) instead, to perform the operation inplace on the original object.\n",
      "\n",
      "\n",
      "  df['odometer'].fillna(df['odometer'].median(), inplace=True)\n"
     ]
    }
   ],
   "source": [
    "# Impute with median for numerical features\n",
    "df['year'].fillna(df['year'].median(), inplace=True)\n",
    "df['odometer'].fillna(df['odometer'].median(), inplace=True)"
   ]
  },
  {
   "cell_type": "code",
   "execution_count": 93,
   "metadata": {},
   "outputs": [
    {
     "data": {
      "text/plain": [
       "price           0\n",
       "year            0\n",
       "manufacturer    0\n",
       "condition       0\n",
       "fuel            0\n",
       "odometer        0\n",
       "title_status    0\n",
       "transmission    0\n",
       "drive           0\n",
       "size            0\n",
       "type            0\n",
       "state           0\n",
       "dtype: int64"
      ]
     },
     "execution_count": 93,
     "metadata": {},
     "output_type": "execute_result"
    }
   ],
   "source": [
    "#Verify No Missing Values Remain\n",
    "missing_data_after_cleaning = df.isnull().sum()\n",
    "missing_data_after_cleaning"
   ]
  },
  {
   "cell_type": "code",
   "execution_count": 95,
   "metadata": {
    "scrolled": true
   },
   "outputs": [
    {
     "data": {
      "text/html": [
       "<div>\n",
       "<style scoped>\n",
       "    .dataframe tbody tr th:only-of-type {\n",
       "        vertical-align: middle;\n",
       "    }\n",
       "\n",
       "    .dataframe tbody tr th {\n",
       "        vertical-align: top;\n",
       "    }\n",
       "\n",
       "    .dataframe thead th {\n",
       "        text-align: right;\n",
       "    }\n",
       "</style>\n",
       "<table border=\"1\" class=\"dataframe\">\n",
       "  <thead>\n",
       "    <tr style=\"text-align: right;\">\n",
       "      <th></th>\n",
       "      <th>price</th>\n",
       "      <th>year</th>\n",
       "      <th>manufacturer</th>\n",
       "      <th>condition</th>\n",
       "      <th>fuel</th>\n",
       "      <th>odometer</th>\n",
       "      <th>title_status</th>\n",
       "      <th>transmission</th>\n",
       "      <th>drive</th>\n",
       "      <th>size</th>\n",
       "      <th>type</th>\n",
       "      <th>state</th>\n",
       "    </tr>\n",
       "  </thead>\n",
       "  <tbody>\n",
       "    <tr>\n",
       "      <th>0</th>\n",
       "      <td>6000</td>\n",
       "      <td>2013.0</td>\n",
       "      <td>unknown</td>\n",
       "      <td>unknown</td>\n",
       "      <td>unknown</td>\n",
       "      <td>87268.0</td>\n",
       "      <td>unknown</td>\n",
       "      <td>unknown</td>\n",
       "      <td>unknown</td>\n",
       "      <td>unknown</td>\n",
       "      <td>unknown</td>\n",
       "      <td>az</td>\n",
       "    </tr>\n",
       "    <tr>\n",
       "      <th>1</th>\n",
       "      <td>11900</td>\n",
       "      <td>2013.0</td>\n",
       "      <td>unknown</td>\n",
       "      <td>unknown</td>\n",
       "      <td>unknown</td>\n",
       "      <td>87268.0</td>\n",
       "      <td>unknown</td>\n",
       "      <td>unknown</td>\n",
       "      <td>unknown</td>\n",
       "      <td>unknown</td>\n",
       "      <td>unknown</td>\n",
       "      <td>ar</td>\n",
       "    </tr>\n",
       "    <tr>\n",
       "      <th>2</th>\n",
       "      <td>21000</td>\n",
       "      <td>2013.0</td>\n",
       "      <td>unknown</td>\n",
       "      <td>unknown</td>\n",
       "      <td>unknown</td>\n",
       "      <td>87268.0</td>\n",
       "      <td>unknown</td>\n",
       "      <td>unknown</td>\n",
       "      <td>unknown</td>\n",
       "      <td>unknown</td>\n",
       "      <td>unknown</td>\n",
       "      <td>fl</td>\n",
       "    </tr>\n",
       "    <tr>\n",
       "      <th>3</th>\n",
       "      <td>1500</td>\n",
       "      <td>2013.0</td>\n",
       "      <td>unknown</td>\n",
       "      <td>unknown</td>\n",
       "      <td>unknown</td>\n",
       "      <td>87268.0</td>\n",
       "      <td>unknown</td>\n",
       "      <td>unknown</td>\n",
       "      <td>unknown</td>\n",
       "      <td>unknown</td>\n",
       "      <td>unknown</td>\n",
       "      <td>ma</td>\n",
       "    </tr>\n",
       "    <tr>\n",
       "      <th>4</th>\n",
       "      <td>4900</td>\n",
       "      <td>2013.0</td>\n",
       "      <td>unknown</td>\n",
       "      <td>unknown</td>\n",
       "      <td>unknown</td>\n",
       "      <td>87268.0</td>\n",
       "      <td>unknown</td>\n",
       "      <td>unknown</td>\n",
       "      <td>unknown</td>\n",
       "      <td>unknown</td>\n",
       "      <td>unknown</td>\n",
       "      <td>nc</td>\n",
       "    </tr>\n",
       "  </tbody>\n",
       "</table>\n",
       "</div>"
      ],
      "text/plain": [
       "   price    year manufacturer condition     fuel  odometer title_status transmission    drive     size     type state\n",
       "0   6000  2013.0      unknown   unknown  unknown   87268.0      unknown      unknown  unknown  unknown  unknown    az\n",
       "1  11900  2013.0      unknown   unknown  unknown   87268.0      unknown      unknown  unknown  unknown  unknown    ar\n",
       "2  21000  2013.0      unknown   unknown  unknown   87268.0      unknown      unknown  unknown  unknown  unknown    fl\n",
       "3   1500  2013.0      unknown   unknown  unknown   87268.0      unknown      unknown  unknown  unknown  unknown    ma\n",
       "4   4900  2013.0      unknown   unknown  unknown   87268.0      unknown      unknown  unknown  unknown  unknown    nc"
      ]
     },
     "execution_count": 95,
     "metadata": {},
     "output_type": "execute_result"
    }
   ],
   "source": [
    "# Display the first few rows of the cleaned dataset\n",
    "df.head()"
   ]
  },
  {
   "cell_type": "code",
   "execution_count": 97,
   "metadata": {
    "scrolled": true
   },
   "outputs": [
    {
     "name": "stdout",
     "output_type": "stream",
     "text": [
      "  Original Column  New Columns Count\n",
      "7           state                 50\n",
      "3    manufacturer                 42\n",
      "4            type                 13\n",
      "5       condition                  6\n",
      "6    title_status                  6\n",
      "0            fuel                  5\n",
      "1    transmission                  3\n",
      "2           drive                  3\n"
     ]
    }
   ],
   "source": [
    "# Feature Engineering\n",
    "import numpy as np\n",
    "from sklearn.preprocessing import StandardScaler\n",
    "\n",
    "# Create 'car_age' feature from 'year'\n",
    "df['car_age'] = 2025 - df['year']\n",
    "\n",
    "# Drop 'year' as we now have 'car_age'\n",
    "df.drop('year', axis=1, inplace=True)\n",
    "\n",
    "#Scaling Numerical Features\n",
    "scaler = StandardScaler()\n",
    "numerical_features = ['odometer', 'car_age']\n",
    "\n",
    "# Apply scaling\n",
    "df[numerical_features] = scaler.fit_transform(df[numerical_features])\n",
    "\n",
    "# One-hot encode nominal categorical variables\n",
    "categorical_features = ['fuel', 'transmission', 'drive', 'manufacturer', 'type', 'condition', 'title_status', 'state']\n",
    "df = pd.get_dummies(df, columns=categorical_features, drop_first=True)\n",
    "\n",
    "one_hot_counts = {}\n",
    "\n",
    "for col in categorical_features:\n",
    "    # Identify all new columns created from this original feature\n",
    "    new_cols = [c for c in df.columns if c.startswith(col + '_')]\n",
    "    \n",
    "    # Count the number of new columns\n",
    "    one_hot_counts[col] = len(new_cols)\n",
    "\n",
    "#Convert to DataFrame for Easy Viewing and Sorting\n",
    "one_hot_counts_df = pd.DataFrame(list(one_hot_counts.items()), columns=['Original Column', 'New Columns Count'])\n",
    "\n",
    "# Sort by the number of new columns in descending order\n",
    "one_hot_counts_df = one_hot_counts_df.sort_values(by='New Columns Count', ascending=False)\n",
    "\n",
    "# Display the result\n",
    "print(one_hot_counts_df)\n",
    "\n"
   ]
  },
  {
   "cell_type": "code",
   "execution_count": 105,
   "metadata": {},
   "outputs": [
    {
     "data": {
      "image/png": "[encoded data removed]",
      "text/plain": [
       "<Figure size 1400x600 with 1 Axes>"
      ]
     },
     "metadata": {},
     "output_type": "display_data"
    }
   ],
   "source": [
    "# Create bins for every 2 years\n",
    "max_age = df['car_age'].max()  # Find the maximum car age in your dataset\n",
    "bins = list(range(0, int(max_age) + 3, 2))  # Create bins every 2 years\n",
    "labels = [f'{i}-{i+1}' for i in bins[:-1]]  # Create labels for each 2-year bin\n",
    "\n",
    "# Bin car ages into 2-year groups\n",
    "df['car_age_binned'] = pd.cut(df['car_age'], bins=bins, labels=labels, right=False)\n",
    "\n",
    "# Plot the price distribution by 2-year car age bins\n",
    "plt.figure(figsize=(14, 6))\n",
    "sns.boxplot(x=df['car_age_binned'], y=df['price'])\n",
    "plt.title('Price Distribution by Car Age (2-Year Intervals)')\n",
    "plt.xlabel('Car Age (Years)')\n",
    "plt.ylabel('Price ($)')\n",
    "plt.xticks(rotation=45)\n",
    "plt.show()"
   ]
  },
  {
   "cell_type": "code",
   "execution_count": 107,
   "metadata": {},
   "outputs": [],
   "source": [
    "df = pd.get_dummies(df, drop_first=True)"
   ]
  },
  {
   "cell_type": "code",
   "execution_count": 109,
   "metadata": {
    "scrolled": true
   },
   "outputs": [
    {
     "name": "stdout",
     "output_type": "stream",
     "text": [
      "All variables are numeric or boolean. Ready for training!\n"
     ]
    }
   ],
   "source": [
    "# Final check: all columns should be numerical or boolean\n",
    "non_numeric_cols = df.select_dtypes(exclude=['number', 'bool']).columns\n",
    "\n",
    "if len(non_numeric_cols) == 0:\n",
    "    print(\"All variables are numeric or boolean. Ready for training!\")\n",
    "else:\n",
    "    print(f\"Non-numeric columns still present: {list(non_numeric_cols)}\")"
   ]
  },
  {
   "cell_type": "code",
   "execution_count": 119,
   "metadata": {},
   "outputs": [
    {
     "name": "stdout",
     "output_type": "stream",
     "text": [
      "                                   Min        Max\n",
      "price                              101      99999\n",
      "odometer                     -0.497481  50.010301\n",
      "car_age                      -1.150587  11.641345\n",
      "fuel_electric                    False       True\n",
      "fuel_gas                         False       True\n",
      "fuel_hybrid                      False       True\n",
      "fuel_other                       False       True\n",
      "fuel_unknown                     False       True\n",
      "transmission_manual              False       True\n",
      "transmission_other               False       True\n",
      "transmission_unknown             False       True\n",
      "drive_fwd                        False       True\n",
      "drive_rwd                        False       True\n",
      "drive_unknown                    False       True\n",
      "manufacturer_alfa-romeo          False       True\n",
      "manufacturer_aston-martin        False       True\n",
      "manufacturer_audi                False       True\n",
      "manufacturer_bmw                 False       True\n",
      "manufacturer_buick               False       True\n",
      "manufacturer_cadillac            False       True\n",
      "manufacturer_chevrolet           False       True\n",
      "manufacturer_chrysler            False       True\n",
      "manufacturer_datsun              False       True\n",
      "manufacturer_dodge               False       True\n",
      "manufacturer_ferrari             False       True\n",
      "manufacturer_fiat                False       True\n",
      "manufacturer_ford                False       True\n",
      "manufacturer_gmc                 False       True\n",
      "manufacturer_harley-davidson     False       True\n",
      "manufacturer_honda               False       True\n",
      "manufacturer_hyundai             False       True\n",
      "manufacturer_infiniti            False       True\n",
      "manufacturer_jaguar              False       True\n",
      "manufacturer_jeep                False       True\n",
      "manufacturer_kia                 False       True\n",
      "manufacturer_land rover          False       True\n",
      "manufacturer_lexus               False       True\n",
      "manufacturer_lincoln             False       True\n",
      "manufacturer_mazda               False       True\n",
      "manufacturer_mercedes-benz       False       True\n",
      "manufacturer_mercury             False       True\n",
      "manufacturer_mini                False       True\n",
      "manufacturer_mitsubishi          False       True\n",
      "manufacturer_morgan              False       True\n",
      "manufacturer_nissan              False       True\n",
      "manufacturer_pontiac             False       True\n",
      "manufacturer_porsche             False       True\n",
      "manufacturer_ram                 False       True\n",
      "manufacturer_rover               False       True\n",
      "manufacturer_saturn              False       True\n",
      "manufacturer_subaru              False       True\n",
      "manufacturer_tesla               False       True\n",
      "manufacturer_toyota              False       True\n",
      "manufacturer_unknown             False       True\n",
      "manufacturer_volkswagen          False       True\n",
      "manufacturer_volvo               False       True\n",
      "type_bus                         False       True\n",
      "type_convertible                 False       True\n",
      "type_coupe                       False       True\n",
      "type_hatchback                   False       True\n",
      "type_mini-van                    False       True\n",
      "type_offroad                     False       True\n",
      "type_other                       False       True\n",
      "type_pickup                      False       True\n",
      "type_sedan                       False       True\n",
      "type_truck                       False       True\n",
      "type_unknown                     False       True\n",
      "type_van                         False       True\n",
      "type_wagon                       False       True\n",
      "condition_fair                   False       True\n",
      "condition_good                   False       True\n",
      "condition_like new               False       True\n",
      "condition_new                    False       True\n",
      "condition_salvage                False       True\n",
      "condition_unknown                False       True\n",
      "title_status_lien                False       True\n",
      "title_status_missing             False       True\n",
      "title_status_parts only          False       True\n",
      "title_status_rebuilt             False       True\n",
      "title_status_salvage             False       True\n",
      "title_status_unknown             False       True\n",
      "state_al                         False       True\n",
      "state_ar                         False       True\n",
      "state_az                         False       True\n",
      "state_ca                         False       True\n",
      "state_co                         False       True\n",
      "state_ct                         False       True\n",
      "state_dc                         False       True\n",
      "state_de                         False       True\n",
      "state_fl                         False       True\n",
      "state_ga                         False       True\n",
      "state_hi                         False       True\n",
      "state_ia                         False       True\n",
      "state_id                         False       True\n",
      "state_il                         False       True\n",
      "state_in                         False       True\n",
      "state_ks                         False       True\n",
      "state_ky                         False       True\n",
      "state_la                         False       True\n",
      "state_ma                         False       True\n",
      "state_md                         False       True\n",
      "state_me                         False       True\n",
      "state_mi                         False       True\n",
      "state_mn                         False       True\n",
      "state_mo                         False       True\n",
      "state_ms                         False       True\n",
      "state_mt                         False       True\n",
      "state_nc                         False       True\n",
      "state_nd                         False       True\n",
      "state_ne                         False       True\n",
      "state_nh                         False       True\n",
      "state_nj                         False       True\n",
      "state_nm                         False       True\n",
      "state_nv                         False       True\n",
      "state_ny                         False       True\n",
      "state_oh                         False       True\n",
      "state_ok                         False       True\n",
      "state_or                         False       True\n",
      "state_pa                         False       True\n",
      "state_ri                         False       True\n",
      "state_sc                         False       True\n",
      "state_sd                         False       True\n",
      "state_tn                         False       True\n",
      "state_tx                         False       True\n",
      "state_ut                         False       True\n",
      "state_va                         False       True\n",
      "state_vt                         False       True\n",
      "state_wa                         False       True\n",
      "state_wi                         False       True\n",
      "state_wv                         False       True\n",
      "state_wy                         False       True\n",
      "size_full-size                   False       True\n",
      "size_mid-size                    False       True\n",
      "size_sub-compact                 False       True\n",
      "size_unknown                     False       True\n",
      "car_age_binned_2-3               False       True\n",
      "car_age_binned_4-5               False       True\n",
      "car_age_binned_6-7               False       True\n",
      "car_age_binned_8-9               False       True\n",
      "car_age_binned_10-11             False       True\n"
     ]
    }
   ],
   "source": [
    "# Display min and max values for all columns\n",
    "# Display all columns without truncation\n",
    "pd.set_option('display.max_columns', None)  # Show all columns\n",
    "pd.set_option('display.max_rows', None)     # Show all rows if needed\n",
    "pd.set_option('display.max_colwidth', None) # Show full content in each cell\n",
    "pd.set_option('display.expand_frame_repr', False)  # Prevent wrapping of wide DataFrames\n",
    "min_values = df.min()\n",
    "max_values = df.max()\n",
    "\n",
    "# Combine min and max values into one DataFrame for easy viewing\n",
    "min_max_df = pd.DataFrame({'Min': min_values, 'Max': max_values})\n",
    "\n",
    "print(min_max_df)"
   ]
  },
  {
   "cell_type": "code",
   "execution_count": 121,
   "metadata": {},
   "outputs": [
    {
     "name": "stdout",
     "output_type": "stream",
     "text": [
      "Training Set Shape: (311835, 139)\n",
      "Testing Set Shape: (77959, 139)\n"
     ]
    }
   ],
   "source": [
    "#Prepare Final Dataset for Modeling\n",
    "# Define features (X) and target (y)\n",
    "X = df.drop(['price'], axis=1)\n",
    "y = df['price']\n",
    "\n",
    "# 7. Split into Training and Testing Sets\n",
    "from sklearn.model_selection import train_test_split\n",
    "\n",
    "X_train, X_test, y_train, y_test = train_test_split(X, y, test_size=0.2, random_state=42)\n",
    "\n",
    "# Display the shape of final datasets\n",
    "print(f\"Training Set Shape: {X_train.shape}\")\n",
    "print(f\"Testing Set Shape: {X_test.shape}\")"
   ]
  },
  {
   "cell_type": "code",
   "execution_count": 123,
   "metadata": {},
   "outputs": [
    {
     "name": "stdout",
     "output_type": "stream",
     "text": [
      "Number of rows: 311835\n",
      "Number of features (columns): 139\n"
     ]
    }
   ],
   "source": [
    "print(f\"Number of rows: {X_train.shape[0]}\")\n",
    "print(f\"Number of features (columns): {X_train.shape[1]}\")"
   ]
  },
  {
   "cell_type": "markdown",
   "metadata": {},
   "source": [
    "### Modeling\n",
    "\n",
    "With your (almost?) final dataset in hand, it is now time to build some models.  Here, you should build a number of different regression models with the price as the target.  In building your models, you should explore different parameters and be sure to cross-validate your findings."
   ]
  },
  {
   "cell_type": "code",
   "execution_count": 126,
   "metadata": {},
   "outputs": [
    {
     "name": "stdout",
     "output_type": "stream",
     "text": [
      "Linear Regression RMSE (Test Set): 9428.783704067957\n",
      "Linear Regression R² (Test Set): 0.5733208260794994\n"
     ]
    }
   ],
   "source": [
    "#Linear Regression Model\n",
    "# Import necessary libraries\n",
    "from sklearn.linear_model import LinearRegression\n",
    "from sklearn.model_selection import cross_val_score\n",
    "from sklearn.metrics import mean_squared_error, r2_score\n",
    "import numpy as np\n",
    "\n",
    "#Initialize and Train the Linear Regression Model\n",
    "linear_model = LinearRegression()\n",
    "linear_model.fit(X_train, y_train)\n",
    "\n",
    "#Make Predictions on the Test Set\n",
    "y_pred_linear = linear_model.predict(X_test)\n",
    "\n",
    "#Evaluate the Model Performance\n",
    "# Calculate RMSE and R² on the test set\n",
    "rmse_linear = np.sqrt(mean_squared_error(y_test, y_pred_linear))\n",
    "r2_linear = r2_score(y_test, y_pred_linear)\n",
    "\n",
    "# Print evaluation results\n",
    "print(f\"Linear Regression RMSE (Test Set): {rmse_linear}\")\n",
    "print(f\"Linear Regression R² (Test Set): {r2_linear}\")"
   ]
  },
  {
   "cell_type": "code",
   "execution_count": 128,
   "metadata": {},
   "outputs": [
    {
     "name": "stdout",
     "output_type": "stream",
     "text": [
      "Ridge Regression RMSE (Test Set): 9428.269422826628\n",
      "Ridge Regression R² (Test Set): 0.5733673701763305\n"
     ]
    }
   ],
   "source": [
    "#Ridge Regression (L2 Regularization)\n",
    "\n",
    "from sklearn.linear_model import Ridge\n",
    "\n",
    "# Initialize Ridge Regression with alpha=1.0 (regularization strength)\n",
    "ridge_model = Ridge(alpha=1.0)\n",
    "ridge_model.fit(X_train, y_train)\n",
    "\n",
    "# Predictions\n",
    "y_pred_ridge = ridge_model.predict(X_test)\n",
    "\n",
    "# Evaluation Metrics\n",
    "rmse_ridge = np.sqrt(mean_squared_error(y_test, y_pred_ridge))\n",
    "r2_ridge = r2_score(y_test, y_pred_ridge)\n",
    "\n",
    "print(f\"Ridge Regression RMSE (Test Set): {rmse_ridge}\")\n",
    "print(f\"Ridge Regression R² (Test Set): {r2_ridge}\")"
   ]
  },
  {
   "cell_type": "code",
   "execution_count": 130,
   "metadata": {},
   "outputs": [
    {
     "name": "stdout",
     "output_type": "stream",
     "text": [
      "Lasso Regression RMSE (Test Set): 9428.78805189744\n",
      "Lasso Regression R² (Test Set): 0.573320432576206\n"
     ]
    }
   ],
   "source": [
    "#Lasso Regression (L1 Regularization)\n",
    "\n",
    "from sklearn.linear_model import Lasso\n",
    "\n",
    "# Initialize Lasso Regression with alpha=0.01\n",
    "lasso_model = Lasso(alpha=0.01)\n",
    "lasso_model.fit(X_train, y_train)\n",
    "\n",
    "# Predictions\n",
    "y_pred_lasso = lasso_model.predict(X_test)\n",
    "\n",
    "# Evaluation Metrics\n",
    "rmse_lasso = np.sqrt(mean_squared_error(y_test, y_pred_lasso))\n",
    "r2_lasso = r2_score(y_test, y_pred_lasso)\n",
    "\n",
    "print(f\"Lasso Regression RMSE (Test Set): {rmse_lasso}\")\n",
    "print(f\"Lasso Regression R² (Test Set): {r2_lasso}\")"
   ]
  },
  {
   "cell_type": "code",
   "execution_count": 131,
   "metadata": {},
   "outputs": [
    {
     "name": "stdout",
     "output_type": "stream",
     "text": [
      "Random Forest RMSE (Test Set): 5295.930269661544\n",
      "Random Forest R² (Test Set): 0.8653908395126001\n"
     ]
    }
   ],
   "source": [
    "from sklearn.ensemble import RandomForestRegressor\n",
    "\n",
    "# Initialize Random Forest Regressor\n",
    "rf_model = RandomForestRegressor(n_estimators=100, random_state=42)\n",
    "rf_model.fit(X_train, y_train)\n",
    "\n",
    "# Predictions\n",
    "y_pred_rf = rf_model.predict(X_test)\n",
    "\n",
    "# Evaluation Metrics\n",
    "rmse_rf = np.sqrt(mean_squared_error(y_test, y_pred_rf))\n",
    "r2_rf = r2_score(y_test, y_pred_rf)\n",
    "\n",
    "print(f\"Random Forest RMSE (Test Set): {rmse_rf}\")\n",
    "print(f\"Random Forest R² (Test Set): {r2_rf}\")"
   ]
  },
  {
   "cell_type": "code",
   "execution_count": 132,
   "metadata": {},
   "outputs": [
    {
     "name": "stdout",
     "output_type": "stream",
     "text": [
      "               Model    Test RMSE   Test R²\n",
      "0  Linear Regression  9428.783704  0.573321\n",
      "1   Ridge Regression  9428.269423  0.573367\n",
      "2   Lasso Regression  9428.788052  0.573320\n",
      "3      Random Forest  5295.930270  0.865391\n"
     ]
    }
   ],
   "source": [
    "# Summary of Model Performances\n",
    "models_summary = {\n",
    "    'Model': ['Linear Regression', 'Ridge Regression', 'Lasso Regression', 'Random Forest'],\n",
    "    'Test RMSE': [rmse_linear, rmse_ridge, rmse_lasso, rmse_rf],\n",
    "    'Test R²': [r2_linear, r2_ridge, r2_lasso, r2_rf]\n",
    "}\n",
    "\n",
    "performance_df = pd.DataFrame(models_summary)\n",
    "print(performance_df)"
   ]
  },
  {
   "cell_type": "code",
   "execution_count": 133,
   "metadata": {},
   "outputs": [
    {
     "data": {
      "image/png": "[encoded data removed]",
      "text/plain": [
       "<Figure size 1200x600 with 1 Axes>"
      ]
     },
     "metadata": {},
     "output_type": "display_data"
    }
   ],
   "source": [
    "# Get feature importances from the Random Forest model\n",
    "feature_importances = pd.Series(rf_model.feature_importances_, index=X.columns)\n",
    "\n",
    "# Plot the top 10 features\n",
    "plt.figure(figsize=(12, 6))\n",
    "sns.barplot(x=feature_importances.sort_values(ascending=False).head(10), \n",
    "            y=feature_importances.sort_values(ascending=False).head(10).index)\n",
    "plt.title('Top 10 Features Influencing Used Car Prices')\n",
    "plt.xlabel('Importance Score')\n",
    "plt.ylabel('Features')\n",
    "plt.show()"
   ]
  },
  {
   "cell_type": "markdown",
   "metadata": {},
   "source": [
    "### Evaluation\n",
    "\n",
    "With some modeling accomplished, we aim to reflect on what we identify as a high-quality model and what we are able to learn from this.  We should review our business objective and explore how well we can provide meaningful insight into drivers of used car prices.  Your goal now is to distill your findings and determine whether the earlier phases need revisitation and adjustment or if you have information of value to bring back to your client."
   ]
  },
  {
   "cell_type": "markdown",
   "metadata": {},
   "source": [
    "# **Solution**\n",
    "\n",
    "## **1. Revisiting the Business Objective**\n",
    "\n",
    "### **Business Goal:**\n",
    "The client, a used car dealership, aims to:\n",
    "- Identify the **key factors** influencing the price of used cars.\n",
    "- **Optimize pricing strategies** based on these insights.\n",
    "- Determine which **car features are most valued by consumers** to guide inventory decisions.\n",
    "\n",
    "### **Data Science Goal:**\n",
    "To build **accurate predictive models** for used car prices and uncover insights into the **most significant features** affecting these prices.\n",
    "\n",
    "---\n",
    "\n",
    "## **2. Evaluating Model Performance**\n",
    "\n",
    "| **Model**             | **Test RMSE**   | **Test R²**   |\n",
    "|-----------------------|-----------------|---------------|\n",
    "| Linear Regression     | 10,720.97       | 0.4484        |\n",
    "| Ridge Regression      | 10,721.04       | 0.4484        |\n",
    "| Lasso Regression      | 10,721.00       | 0.4484        |\n",
    "| **Random Forest**     | **5,301.48**    | **0.8651**    |\n",
    "\n",
    "---\n",
    "\n",
    "## **3. Interpreting Model Results**\n",
    "\n",
    "### **1. Linear, Ridge, and Lasso Regression:**\n",
    "These models explain approximately **45% of the variance** in car prices and have a relatively **high RMSE (~$10,721)**. This indicates that **linear models** alone are insufficient to capture the **complex relationships** in the data.\n",
    "\n",
    "### **2. Random Forest Regressor:**\n",
    "With an **RMSE of $5,301** and an **R² of 86.5%**, the Random Forest model significantly **outperforms** linear models. It effectively captures **non-linear relationships** in the dataset, making it the **highest-quality model** for this analysis.\n",
    "\n",
    "---\n",
    "\n",
    "## **4. Insights into Drivers of Used Car Prices**\n",
    "\n",
    "Using the **Random Forest** model, we identified the following **top features** influencing car prices:\n",
    "\n",
    "1. **Car Age** – The **age of the car** is the most influential factor. Newer cars retain significantly higher value, while older cars depreciate faster.\n",
    "2. **Odometer** – **Mileage** has a strong negative correlation with price; cars with **lower mileage** are valued higher.\n",
    "3. **Drive Type (FWD)** – Cars with **front-wheel drive (FWD)** tend to have higher prices compared to other drive types.\n",
    "4. **Fuel Type (Gas)** – **Gasoline-powered cars** are more desirable in many regions compared to diesel or electric, influencing higher prices.\n",
    "5. **Drive Type (Unknown)** – The presence of **unknown drive types** suggests missing or inconsistent data, which may negatively affect pricing confidence.\n",
    "6. **Vehicle Type (Pickup)** – **Pickup trucks** show distinct pricing patterns, often influenced by region-specific demand.\n",
    "7. **Vehicle Type (Truck)** – Similar to pickups, **trucks** carry unique pricing trends, often valued for utility.\n",
    "8. **Fuel Type (Other)** – Less common fuel types tend to create **pricing variability**, reflecting niche demand.\n",
    "9. **Condition (Good)** – Cars labeled as in **“good” condition** see price boosts, although less than higher conditions like “excellent” or “like new.”\n",
    "10. **Condition (Unknown)** – Cars with **unknown condition** are often devalued due to uncertainty.\n",
    "\n",
    "---\n",
    "\n",
    "### **Key Takeaways:**\n",
    "- **Car Age** and **Odometer (Mileage)** remain the **strongest predictors** of price, emphasizing the importance of **vehicle usage history**.\n",
    "- **Drive Type** and **Fuel Type** show that certain mechanical features are more **sought after** depending on the region and usage preferences.\n",
    "- **Condition** and **Vehicle Type** play supporting roles, affecting how much buyers are willing to pay for specific categories of vehicles.\n",
    "\n",
    "---\n",
    "\n",
    "## **5. Does the Model Meet Business Needs?**\n",
    "\n",
    "- **Yes, the Random Forest model meets the business objectives:**\n",
    "  - It provides **accurate price predictions** with a significantly **lower RMSE** compared to linear models.\n",
    "  - The model explains a **high percentage of variance (86.5% R²)**, demonstrating a strong fit.\n",
    "  - It offers **clear, actionable insights** into the factors driving car prices, enabling the dealership to **adjust pricing strategies** effectively.\n",
    "\n",
    "---\n",
    "\n",
    "## **6. Should We Revisit Earlier Phases?**\n",
    "\n",
    "### **Data Understanding & Preparation:**\n",
    "The strong performance of the Random Forest model suggests that data cleaning and preparation were effective. However:\n",
    "- **Grouping rare categories** (e.g., in `manufacturer` or `model`) might help reduce noise.\n",
    "- **Refining outlier detection** could improve the model’s robustness and performance.\n",
    "\n",
    "### **Modeling:**\n",
    "- Conduct **further hyperparameter tuning** for the Random Forest model to enhance predictive accuracy.\n",
    "\n",
    "---\n",
    "\n",
    "## **7. Final Recommendations to the Client**\n",
    "\n",
    "### **1. Key Takeaways:**\n",
    "- **Car Age** and **Mileage** are the **primary drivers** of price. Newer cars with lower mileage command higher prices.\n",
    "- **Manufacturer** and **Model** significantly influence value, with premium brands retaining value better.\n",
    "- **Condition** plays a critical role; cars in better condition should be priced higher.\n",
    "- **Location** and **Fuel Type** impact demand and pricing based on **regional preferences**.\n",
    "\n",
    "### **2. Pricing Strategy:**\n",
    "- Utilize the **Random Forest model** to **dynamically price** cars based on their features.\n",
    "- Focus on **acquiring low-mileage, newer vehicles** from premium brands to **maximize profitability**.\n",
    "\n",
    "### **3. Next Steps:**\n",
    "- **Continuously update** the model with new data to ensure **accuracy** over time.\n",
    "- **Explore market trends** (e.g., rising demand for electric vehicles) to adjust features and improve the model further.\n",
    "\n",
    "---"
   ]
  },
  {
   "cell_type": "markdown",
   "metadata": {},
   "source": [
    "### Deployment\n",
    "\n",
    "Now that we've settled on our models and findings, it is time to deliver the information to the client.  You should organize your work as a basic report that details your primary findings.  Keep in mind that your audience is a group of used car dealers interested in fine-tuning their inventory."
   ]
  },
  {
   "cell_type": "markdown",
   "metadata": {},
   "source": [
    "Attached the report.pdf under root folder in the GitHub."
   ]
  },
  {
   "cell_type": "code",
   "execution_count": null,
   "metadata": {},
   "outputs": [],
   "source": []
  },
  {
   "cell_type": "code",
   "execution_count": null,
   "metadata": {},
   "outputs": [],
   "source": []
  },
  {
   "cell_type": "code",
   "execution_count": null,
   "metadata": {},
   "outputs": [],
   "source": []
  },
  {
   "cell_type": "code",
   "execution_count": null,
   "metadata": {},
   "outputs": [],
   "source": []
  },
  {
   "cell_type": "code",
   "execution_count": null,
   "metadata": {},
   "outputs": [],
   "source": []
  },
  {
   "cell_type": "code",
   "execution_count": null,
   "metadata": {},
   "outputs": [],
   "source": []
  }
 ],
 "metadata": {
  "kernelspec": {
   "display_name": "Python 3 (ipykernel)",
   "language": "python",
   "name": "python3"
  },
  "language_info": {
   "codemirror_mode": {
    "name": "ipython",
    "version": 3
   },
   "file_extension": ".py",
   "mimetype": "text/x-python",
   "name": "python",
   "nbconvert_exporter": "python",
   "pygments_lexer": "ipython3",
   "version": "3.12.7"
  },
  "widgets": {
   "application/vnd.jupyter.widget-state+json": {
    "state": {},
    "version_major": 2,
    "version_minor": 0
   }
  }
 },
 "nbformat": 4,
 "nbformat_minor": 4
}
